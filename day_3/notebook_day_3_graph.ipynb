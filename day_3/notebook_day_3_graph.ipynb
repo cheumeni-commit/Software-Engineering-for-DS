{
 "cells": [
  {
   "cell_type": "code",
   "execution_count": 7,
   "metadata": {},
   "outputs": [
    {
     "name": "stdout",
     "output_type": "stream",
     "text": [
      "The autoreload extension is already loaded. To reload it, use:\n",
      "  %reload_ext autoreload\n"
     ]
    }
   ],
   "source": [
    "%load_ext autoreload\n",
    "%autoreload 2"
   ]
  },
  {
   "cell_type": "code",
   "execution_count": 8,
   "metadata": {},
   "outputs": [
    {
     "name": "stderr",
     "output_type": "stream",
     "text": [
      "[2021-11-25 09:04:06,378 | DEBUG]\tLoaded backend module://ipykernel.pylab.backend_inline version unknown.\n"
     ]
    }
   ],
   "source": [
    "%matplotlib inline"
   ]
  },
  {
   "cell_type": "code",
   "execution_count": 9,
   "metadata": {},
   "outputs": [],
   "source": [
    "import matplotlib.pyplot as plt\n",
    "import networkx as nx   # install it if missing: !pip install networkx"
   ]
  },
  {
   "cell_type": "code",
   "execution_count": 10,
   "metadata": {},
   "outputs": [],
   "source": [
    "from src.config.config import get_config\n",
    "from src.context import context"
   ]
  },
  {
   "cell_type": "code",
   "execution_count": 11,
   "metadata": {},
   "outputs": [],
   "source": [
    "context.environment = 'development'  # or 'dev', depends on your config files\n",
    "context.config = get_config(context)"
   ]
  },
  {
   "cell_type": "code",
   "execution_count": 12,
   "metadata": {},
   "outputs": [],
   "source": [
    "def draw_graph(graph, *, ax=None, save_path=None):\n",
    "    if ax is None:\n",
    "        ax = plt.axes()\n",
    "    # NOTE: \n",
    "    # We need `.reverse` here because we have reversed\n",
    "    # our adjacency list for convenience. You shouldn't\n",
    "    # care about that detail.\n",
    "    nx_graph = nx.DiGraph(graph.edges).reverse()\n",
    "    nx.draw_networkx(nx_graph, ax=ax)\n",
    "    if save_path is not None:\n",
    "        ax.figure.savefig(save_path)\n",
    "\n",
    "    return ax"
   ]
  },
  {
   "cell_type": "code",
   "execution_count": 13,
   "metadata": {},
   "outputs": [
    {
     "name": "stderr",
     "output_type": "stream",
     "text": [
      "[2021-11-25 09:04:16,417 | INFO]\tLoading data catalog...\n",
      "[2021-11-25 09:04:17,090 | INFO]\tData catalog loaded. ✅\n"
     ]
    }
   ],
   "source": [
    "from src.training.data import build_dataset  # the graph used for testing\n",
    "graph = build_dataset()"
   ]
  },
  {
   "cell_type": "code",
   "execution_count": 14,
   "metadata": {},
   "outputs": [
    {
     "name": "stderr",
     "output_type": "stream",
     "text": [
      "/usr/local/anaconda/lib/python3.7/site-packages/networkx/drawing/nx_pylab.py:579: MatplotlibDeprecationWarning: \n",
      "The iterable function was deprecated in Matplotlib 3.1 and will be removed in 3.3. Use np.iterable instead.\n",
      "  if not cb.iterable(width):\n",
      "/usr/local/anaconda/lib/python3.7/site-packages/networkx/drawing/nx_pylab.py:676: MatplotlibDeprecationWarning: \n",
      "The iterable function was deprecated in Matplotlib 3.1 and will be removed in 3.3. Use np.iterable instead.\n",
      "  if cb.iterable(node_size):  # many node sizes\n",
      "[2021-11-25 09:04:18,392 | DEBUG]\tfindfont: Matching :family=sans-serif:style=normal:variant=normal:weight=normal:stretch=normal:size=12.0.\n",
      "[2021-11-25 09:04:18,398 | DEBUG]\tfindfont: score(<Font 'STIXSizeThreeSym' (STIXSizThreeSymReg.ttf) normal normal regular normal>) = 10.05\n",
      "[2021-11-25 09:04:18,404 | DEBUG]\tfindfont: score(<Font 'STIXNonUnicode' (STIXNonUniBol.ttf) normal normal bold normal>) = 10.335\n",
      "[2021-11-25 09:04:18,406 | DEBUG]\tfindfont: score(<Font 'STIXGeneral' (STIXGeneral.ttf) normal normal regular normal>) = 10.05\n",
      "[2021-11-25 09:04:18,408 | DEBUG]\tfindfont: score(<Font 'STIXSizeTwoSym' (STIXSizTwoSymBol.ttf) normal normal bold normal>) = 10.335\n",
      "[2021-11-25 09:04:18,412 | DEBUG]\tfindfont: score(<Font 'DejaVu Sans Mono' (DejaVuSansMono-BoldOblique.ttf) oblique normal bold normal>) = 11.335\n",
      "[2021-11-25 09:04:18,414 | DEBUG]\tfindfont: score(<Font 'DejaVu Serif' (DejaVuSerif-Italic.ttf) italic normal 400 normal>) = 11.05\n",
      "[2021-11-25 09:04:18,418 | DEBUG]\tfindfont: score(<Font 'cmmi10' (cmmi10.ttf) normal normal 400 normal>) = 10.05\n",
      "[2021-11-25 09:04:18,419 | DEBUG]\tfindfont: score(<Font 'cmtt10' (cmtt10.ttf) normal normal 400 normal>) = 10.05\n",
      "[2021-11-25 09:04:18,419 | DEBUG]\tfindfont: score(<Font 'STIXSizeThreeSym' (STIXSizThreeSymBol.ttf) normal normal bold normal>) = 10.335\n",
      "[2021-11-25 09:04:18,420 | DEBUG]\tfindfont: score(<Font 'STIXSizeTwoSym' (STIXSizTwoSymReg.ttf) normal normal regular normal>) = 10.05\n",
      "[2021-11-25 09:04:18,421 | DEBUG]\tfindfont: score(<Font 'STIXSizeFiveSym' (STIXSizFiveSymReg.ttf) normal normal regular normal>) = 10.05\n",
      "[2021-11-25 09:04:18,421 | DEBUG]\tfindfont: score(<Font 'STIXNonUnicode' (STIXNonUniIta.ttf) italic normal 400 normal>) = 11.05\n",
      "[2021-11-25 09:04:18,429 | DEBUG]\tfindfont: score(<Font 'STIXNonUnicode' (STIXNonUni.ttf) normal normal regular normal>) = 10.05\n",
      "[2021-11-25 09:04:18,430 | DEBUG]\tfindfont: score(<Font 'STIXSizeFourSym' (STIXSizFourSymReg.ttf) normal normal regular normal>) = 10.05\n",
      "[2021-11-25 09:04:18,433 | DEBUG]\tfindfont: score(<Font 'DejaVu Sans Mono' (DejaVuSansMono-Bold.ttf) normal normal bold normal>) = 10.335\n",
      "[2021-11-25 09:04:18,436 | DEBUG]\tfindfont: score(<Font 'DejaVu Sans' (DejaVuSans-Bold.ttf) normal normal bold normal>) = 0.33499999999999996\n",
      "[2021-11-25 09:04:18,439 | DEBUG]\tfindfont: score(<Font 'DejaVu Sans' (DejaVuSans.ttf) normal normal 400 normal>) = 0.05\n",
      "[2021-11-25 09:04:18,440 | DEBUG]\tfindfont: score(<Font 'STIXSizeOneSym' (STIXSizOneSymBol.ttf) normal normal bold normal>) = 10.335\n",
      "[2021-11-25 09:04:18,440 | DEBUG]\tfindfont: score(<Font 'STIXGeneral' (STIXGeneralBol.ttf) normal normal bold normal>) = 10.335\n",
      "[2021-11-25 09:04:18,441 | DEBUG]\tfindfont: score(<Font 'cmsy10' (cmsy10.ttf) normal normal 400 normal>) = 10.05\n",
      "[2021-11-25 09:04:18,442 | DEBUG]\tfindfont: score(<Font 'cmr10' (cmr10.ttf) normal normal 400 normal>) = 10.05\n",
      "[2021-11-25 09:04:18,451 | DEBUG]\tfindfont: score(<Font 'DejaVu Sans' (DejaVuSans-Oblique.ttf) oblique normal 400 normal>) = 1.05\n",
      "[2021-11-25 09:04:18,457 | DEBUG]\tfindfont: score(<Font 'DejaVu Serif' (DejaVuSerif-BoldItalic.ttf) italic normal bold normal>) = 11.335\n",
      "[2021-11-25 09:04:18,460 | DEBUG]\tfindfont: score(<Font 'cmss10' (cmss10.ttf) normal normal 400 normal>) = 10.05\n",
      "[2021-11-25 09:04:18,462 | DEBUG]\tfindfont: score(<Font 'STIXSizeFourSym' (STIXSizFourSymBol.ttf) normal normal bold normal>) = 10.335\n",
      "[2021-11-25 09:04:18,465 | DEBUG]\tfindfont: score(<Font 'DejaVu Sans Display' (DejaVuSansDisplay.ttf) normal normal 400 normal>) = 10.05\n",
      "[2021-11-25 09:04:18,467 | DEBUG]\tfindfont: score(<Font 'STIXNonUnicode' (STIXNonUniBolIta.ttf) italic normal bold normal>) = 11.335\n",
      "[2021-11-25 09:04:18,468 | DEBUG]\tfindfont: score(<Font 'DejaVu Serif Display' (DejaVuSerifDisplay.ttf) normal normal 400 normal>) = 10.05\n",
      "[2021-11-25 09:04:18,468 | DEBUG]\tfindfont: score(<Font 'DejaVu Sans' (DejaVuSans-BoldOblique.ttf) oblique normal bold normal>) = 1.335\n",
      "[2021-11-25 09:04:18,469 | DEBUG]\tfindfont: score(<Font 'STIXGeneral' (STIXGeneralBolIta.ttf) italic normal bold normal>) = 11.335\n",
      "[2021-11-25 09:04:18,494 | DEBUG]\tfindfont: score(<Font 'cmb10' (cmb10.ttf) normal normal 400 normal>) = 10.05\n",
      "[2021-11-25 09:04:18,501 | DEBUG]\tfindfont: score(<Font 'DejaVu Sans Mono' (DejaVuSansMono.ttf) normal normal 400 normal>) = 10.05\n",
      "[2021-11-25 09:04:18,504 | DEBUG]\tfindfont: score(<Font 'DejaVu Serif' (DejaVuSerif.ttf) normal normal 400 normal>) = 10.05\n",
      "[2021-11-25 09:04:18,508 | DEBUG]\tfindfont: score(<Font 'STIXSizeOneSym' (STIXSizOneSymReg.ttf) normal normal regular normal>) = 10.05\n",
      "[2021-11-25 09:04:18,513 | DEBUG]\tfindfont: score(<Font 'STIXGeneral' (STIXGeneralItalic.ttf) italic normal 400 normal>) = 11.05\n",
      "[2021-11-25 09:04:18,519 | DEBUG]\tfindfont: score(<Font 'DejaVu Sans Mono' (DejaVuSansMono-Oblique.ttf) oblique normal 400 normal>) = 11.05\n",
      "[2021-11-25 09:04:18,520 | DEBUG]\tfindfont: score(<Font 'DejaVu Serif' (DejaVuSerif-Bold.ttf) normal normal bold normal>) = 10.335\n",
      "[2021-11-25 09:04:18,521 | DEBUG]\tfindfont: score(<Font 'cmex10' (cmex10.ttf) normal normal 400 normal>) = 10.05\n",
      "[2021-11-25 09:04:18,523 | DEBUG]\tfindfont: Matching :family=sans-serif:style=normal:variant=normal:weight=normal:stretch=normal:size=12.0 to DejaVu Sans ('/usr/local/anaconda/lib/python3.7/site-packages/matplotlib/mpl-data/fonts/ttf/DejaVuSans.ttf') with score of 0.050000.\n"
     ]
    },
    {
     "data": {
      "image/png": "[encoded data removed]",
      "text/plain": [
       "<Figure size 432x288 with 1 Axes>"
      ]
     },
     "metadata": {},
     "output_type": "display_data"
    }
   ],
   "source": [
    "draw_graph(graph);"
   ]
  },
  {
   "cell_type": "code",
   "execution_count": 15,
   "metadata": {},
   "outputs": [],
   "source": [
    "from src.libs.dag.utils import map_adjacency"
   ]
  },
  {
   "cell_type": "code",
   "execution_count": 16,
   "metadata": {},
   "outputs": [],
   "source": [
    "def draw_graph(graph, *, ax=None, save_path=None):\n",
    "    if ax is None:\n",
    "        ax = plt.axes()\n",
    "\n",
    "    # We use our utils function here: using the __name__\n",
    "    # special attributes that is attached to every Python\n",
    "    # functions or classes.\n",
    "    adjacency = map_adjacency(lambda f: f.__name__, graph.edges)\n",
    "    print(adjacency)\n",
    "    nx_graph = nx.DiGraph(adjacency).reverse()\n",
    "    nx.draw_networkx(nx_graph, ax=ax)\n",
    "    if save_path is not None:\n",
    "        ax.figure.savefig(save_path)\n",
    "    return ax"
   ]
  },
  {
   "cell_type": "code",
   "execution_count": 17,
   "metadata": {},
   "outputs": [
    {
     "name": "stdout",
     "output_type": "stream",
     "text": [
      "{'_compute_daily_transactions': ['load_transactions'], '_compute_weekly_transactions': ['_compute_daily_transactions'], '_get_year_transactions': ['_compute_weekly_transactions'], '_get_transactions': ['_get_year_transactions'], '_merge_transactions_with_products': ['load_products', '_get_transactions']}\n"
     ]
    },
    {
     "data": {
      "image/png": "[encoded data removed]",
      "text/plain": [
       "<Figure size 432x288 with 1 Axes>"
      ]
     },
     "metadata": {},
     "output_type": "display_data"
    }
   ],
   "source": [
    "draw_graph(graph);"
   ]
  },
  {
   "cell_type": "code",
   "execution_count": 24,
   "metadata": {},
   "outputs": [],
   "source": [
    "from pyvis.network import Network"
   ]
  },
  {
   "cell_type": "code",
   "execution_count": 55,
   "metadata": {},
   "outputs": [],
   "source": [
    "def draw_graph(graph, *, path=None, backend='pyvis', ax=None):\n",
    "    \"\"\"\n",
    "    Draw a graph using prefered backend.\n",
    "\n",
    "    Args:\n",
    "    -----\n",
    "        graph: a `dag.graph.Graph` object\n",
    "        path (Path|str): where to save the file (required for pyvis backend)\n",
    "        backend: 'pyvis' or 'matplotlib'\n",
    "        ax (matplotlib.pyplot.axes): optional for matplotlib\n",
    "    \"\"\"\n",
    "    adjacency = map_adjacency(lambda f: f.__name__, graph.edges)\n",
    "    nx_graph = nx.DiGraph(adjacency).reverse()\n",
    "    \n",
    "    if backend == 'matplotlib':\n",
    "        if ax is None:\n",
    "            ax = plt.axes()\n",
    "        nx.draw_networkx(nx_graph, ax=ax)\n",
    "        if path is not None:\n",
    "            ax.figure.savefig(path)\n",
    "\n",
    "        return ax\n",
    "\n",
    "    elif backend == 'pyvis':\n",
    "        assert path is not None, (\n",
    "            \"'path' is required if you're using pyvis backend.\"\n",
    "        )\n",
    "        net = Network(directed=True, notebook=True)\n",
    "        net.from_nx(nx_graph)\n",
    "\n",
    "        return net.show(str(path))\n",
    "\n",
    "    else:\n",
    "        raise NotImplementedError(\"Unknown backend.\")"
   ]
  },
  {
   "cell_type": "code",
   "execution_count": 56,
   "metadata": {},
   "outputs": [
    {
     "data": {
      "text/html": [
       "\n",
       "        <iframe\n",
       "            width=\"500px\"\n",
       "            height=\"500px\"\n",
       "            src=\"graph.html\"\n",
       "            frameborder=\"0\"\n",
       "            allowfullscreen\n",
       "        ></iframe>\n",
       "        "
      ],
      "text/plain": [
       "<IPython.lib.display.IFrame at 0x7fa16050c710>"
      ]
     },
     "execution_count": 56,
     "metadata": {},
     "output_type": "execute_result"
    }
   ],
   "source": [
    "draw_graph(graph, path='graph.html')"
   ]
  },
  {
   "cell_type": "code",
   "execution_count": 57,
   "metadata": {},
   "outputs": [],
   "source": [
    "def execute_graph(graph):\n",
    "    for node in graph.topo_sorted():\n",
    "        print(node)  # useless, but enough for now."
   ]
  },
  {
   "cell_type": "code",
   "execution_count": 58,
   "metadata": {},
   "outputs": [
    {
     "name": "stdout",
     "output_type": "stream",
     "text": [
      "<function load_products at 0x7fa15fc26290>\n",
      "<function load_transactions at 0x7fa15fb85dd0>\n",
      "<function _compute_daily_transactions at 0x7fa15fc26680>\n",
      "<function _compute_weekly_transactions at 0x7fa15fc26830>\n",
      "<function _get_year_transactions at 0x7fa15fb17ef0>\n",
      "<function _get_transactions at 0x7fa15fb17f80>\n",
      "<function _merge_transactions_with_products at 0x7fa15fad4050>\n",
      "<function _save_dataset at 0x7fa15fad4170>\n"
     ]
    }
   ],
   "source": [
    "execute_graph(graph)"
   ]
  },
  {
   "cell_type": "code",
   "execution_count": 59,
   "metadata": {},
   "outputs": [],
   "source": [
    "def execute_graph(graph):\n",
    "    for node in graph.topo_sorted():\n",
    "        print(graph.get_node_dependencies(node))  # useless, but enough for now."
   ]
  },
  {
   "cell_type": "code",
   "execution_count": 60,
   "metadata": {},
   "outputs": [
    {
     "name": "stdout",
     "output_type": "stream",
     "text": [
      "[]\n",
      "[]\n",
      "[<function load_transactions at 0x7fa15fb85dd0>]\n",
      "[<function _compute_daily_transactions at 0x7fa15fc26680>]\n",
      "[<function _compute_weekly_transactions at 0x7fa15fc26830>]\n",
      "[<function _get_year_transactions at 0x7fa15fb17ef0>]\n",
      "[<function load_products at 0x7fa15fc26290>, <function _get_transactions at 0x7fa15fb17f80>]\n",
      "[<function _merge_transactions_with_products at 0x7fa15fad4050>]\n"
     ]
    }
   ],
   "source": [
    "execute_graph(graph)"
   ]
  },
  {
   "cell_type": "code",
   "execution_count": 61,
   "metadata": {},
   "outputs": [
    {
     "name": "stderr",
     "output_type": "stream",
     "text": [
      "[2021-11-25 10:38:29,183 | INFO]\tLoading data catalog...\n",
      "[2021-11-25 10:38:29,719 | INFO]\tData catalog loaded. ✅\n"
     ]
    },
    {
     "data": {
      "image/png": "[encoded data removed]",
      "text/plain": [
       "<Figure size 432x288 with 1 Axes>"
      ]
     },
     "metadata": {},
     "output_type": "display_data"
    }
   ],
   "source": [
    "from src.training.data import build_dataset\n",
    "\n",
    "graph = build_dataset()\n",
    "\n",
    "# `draw_graph` was implemented in exercise 2\n",
    "draw_graph(graph, path='graph.html')  # pyvis\n",
    "# or\n",
    "draw_graph(graph, backend='matplotlib');  # matplotlib"
   ]
  },
  {
   "cell_type": "code",
   "execution_count": 66,
   "metadata": {},
   "outputs": [
    {
     "name": "stderr",
     "output_type": "stream",
     "text": [
      "[2021-11-25 10:39:30,038 | INFO]\tDataset saved at data/raw/dataset.csv\n",
      "[2021-11-25 10:39:30,039 | INFO]\tSuccessfully executed <src.libs.dag.graph.Graph object at 0x7fa15ff0fc90>.\n"
     ]
    }
   ],
   "source": [
    "from src.libs.dag.executor import Executor\n",
    "\n",
    "executor = Executor()\n",
    "executor.execute(graph)  # graph = build_dataset()"
   ]
  },
  {
   "cell_type": "code",
   "execution_count": 67,
   "metadata": {},
   "outputs": [],
   "source": [
    "l = [1,2,3]\n",
    "def f(x):\n",
    "    result = []\n",
    "    for elt in x:\n",
    "        result.append(elt+1)\n",
    "    return result"
   ]
  },
  {
   "cell_type": "code",
   "execution_count": 68,
   "metadata": {},
   "outputs": [
    {
     "data": {
      "text/plain": [
       "[2, 3, 4]"
      ]
     },
     "execution_count": 68,
     "metadata": {},
     "output_type": "execute_result"
    }
   ],
   "source": [
    "f(l)"
   ]
  },
  {
   "cell_type": "code",
   "execution_count": 33,
   "metadata": {},
   "outputs": [],
   "source": [
    "b = True\n",
    "def f():\n",
    "    if b :\n",
    "        return{\n",
    "        'products': 2,\n",
    "        'transactions': 3\n",
    "        }\n",
    "    else:\n",
    "        print('toto')"
   ]
  },
  {
   "cell_type": "code",
   "execution_count": 34,
   "metadata": {},
   "outputs": [
    {
     "data": {
      "text/plain": [
       "{'products': 2, 'transactions': 3}"
      ]
     },
     "execution_count": 34,
     "metadata": {},
     "output_type": "execute_result"
    }
   ],
   "source": [
    "f()"
   ]
  },
  {
   "cell_type": "code",
   "execution_count": null,
   "metadata": {},
   "outputs": [],
   "source": []
  },
  {
   "cell_type": "code",
   "execution_count": null,
   "metadata": {},
   "outputs": [],
   "source": []
  },
  {
   "cell_type": "code",
   "execution_count": null,
   "metadata": {},
   "outputs": [],
   "source": []
  },
  {
   "cell_type": "code",
   "execution_count": null,
   "metadata": {},
   "outputs": [],
   "source": []
  },
  {
   "cell_type": "code",
   "execution_count": 35,
   "metadata": {},
   "outputs": [
    {
     "data": {
      "text/plain": [
       "732.375"
      ]
     },
     "execution_count": 35,
     "metadata": {},
     "output_type": "execute_result"
    }
   ],
   "source": [
    "def f(x):\n",
    "    return pow(x,2)\n",
    "\n",
    "def g(x):\n",
    "    return x/2\n",
    "\n",
    "def h(z):\n",
    "    return pow(z[0], 3) + pow(z[1], 3)\n",
    "\n",
    "def identite(x, y):\n",
    "    return (x, y)\n",
    "\n",
    "\n",
    "x = 3\n",
    "x_f = f(x)\n",
    "x_g = g(x)\n",
    "\n",
    "identity_func = identite(f(x), g(x))\n",
    "# composition de la fonction identite avec la fonction h\n",
    "x_f_g = h(identity_func)\n",
    "x_f_g"
   ]
  },
  {
   "cell_type": "code",
   "execution_count": 36,
   "metadata": {},
   "outputs": [],
   "source": [
    "def g(x):\n",
    "    return x/2"
   ]
  },
  {
   "cell_type": "code",
   "execution_count": 37,
   "metadata": {},
   "outputs": [],
   "source": [
    "def h(z):\n",
    "    return pow(z[0], 3) + pow(z[1], 3)\n",
    "    "
   ]
  },
  {
   "cell_type": "code",
   "execution_count": 38,
   "metadata": {},
   "outputs": [],
   "source": [
    "def identite(x, y):\n",
    "    return (x, y)\n"
   ]
  },
  {
   "cell_type": "code",
   "execution_count": 39,
   "metadata": {},
   "outputs": [
    {
     "data": {
      "text/plain": [
       "732.375"
      ]
     },
     "execution_count": 39,
     "metadata": {},
     "output_type": "execute_result"
    }
   ],
   "source": [
    "x = 3\n",
    "x_f = f(x)\n",
    "x_g = g(x)\n",
    "\n",
    "identity_func = identite(f(x), g(x))\n",
    "# composition de la fonction identite avec la fonction h\n",
    "x_f_g = h(identity_func)\n",
    "x_f_g"
   ]
  },
  {
   "cell_type": "code",
   "execution_count": 40,
   "metadata": {},
   "outputs": [],
   "source": [
    "def identite(x, y):\n",
    "    return x, y\n"
   ]
  },
  {
   "cell_type": "code",
   "execution_count": 41,
   "metadata": {},
   "outputs": [
    {
     "data": {
      "text/plain": [
       "(9, 1.5)"
      ]
     },
     "execution_count": 41,
     "metadata": {},
     "output_type": "execute_result"
    }
   ],
   "source": [
    "identite(f(x), g(x))"
   ]
  },
  {
   "cell_type": "code",
   "execution_count": 75,
   "metadata": {},
   "outputs": [],
   "source": [
    "class Graph():\n",
    "    def __init__(self, x):\n",
    "        self.x = x\n",
    "        self.states = {}\n",
    "    def __repr__(self):\n",
    "        return f'Graph({self.x})'\n",
    "    def add_edge(self, source, target):\n",
    "        "
   ]
  },
  {
   "cell_type": "code",
   "execution_count": 76,
   "metadata": {},
   "outputs": [
    {
     "data": {
      "text/plain": [
       "Graph(gamma graph)"
      ]
     },
     "execution_count": 76,
     "metadata": {},
     "output_type": "execute_result"
    }
   ],
   "source": [
    "graph = Graph(\"gamma graph\")\n",
    "graph"
   ]
  },
  {
   "cell_type": "code",
   "execution_count": null,
   "metadata": {},
   "outputs": [],
   "source": []
  }
 ],
 "metadata": {
  "kernelspec": {
   "display_name": "Python 3",
   "language": "python",
   "name": "python3"
  },
  "language_info": {
   "codemirror_mode": {
    "name": "ipython",
    "version": 3
   },
   "file_extension": ".py",
   "mimetype": "text/x-python",
   "name": "python",
   "nbconvert_exporter": "python",
   "pygments_lexer": "ipython3",
   "version": "3.7.4"
  }
 },
 "nbformat": 4,
 "nbformat_minor": 2
}
