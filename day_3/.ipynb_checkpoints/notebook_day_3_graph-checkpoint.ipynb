{
 "cells": [
  {
   "cell_type": "code",
   "execution_count": 1,
   "metadata": {},
   "outputs": [],
   "source": [
    "%load_ext autoreload\n",
    "%autoreload 2"
   ]
  },
  {
   "cell_type": "code",
   "execution_count": 2,
   "metadata": {},
   "outputs": [],
   "source": [
    "%matplotlib inline"
   ]
  },
  {
   "cell_type": "code",
   "execution_count": 3,
   "metadata": {},
   "outputs": [],
   "source": [
    "import matplotlib.pyplot as plt\n",
    "import networkx as nx   # install it if missing: !pip install networkx"
   ]
  },
  {
   "cell_type": "code",
   "execution_count": 4,
   "metadata": {},
   "outputs": [
    {
     "name": "stdout",
     "output_type": "stream",
     "text": [
      "<src.config.directories._Directories object at 0x7f6233d41610>\n"
     ]
    }
   ],
   "source": [
    "from src.config.config import get_config\n",
    "from src.context import context"
   ]
  },
  {
   "cell_type": "code",
   "execution_count": 5,
   "metadata": {},
   "outputs": [],
   "source": [
    "context.environment = 'development'  # or 'dev', depends on your config files\n",
    "context.config = get_config(context)"
   ]
  },
  {
   "cell_type": "code",
   "execution_count": 6,
   "metadata": {},
   "outputs": [],
   "source": [
    "def draw_graph(graph, *, ax=None, save_path=None):\n",
    "    if ax is None:\n",
    "        ax = plt.axes()\n",
    "    # NOTE: \n",
    "    # We need `.reverse` here because we have reversed\n",
    "    # our adjacency list for convenience. You shouldn't\n",
    "    # care about that detail.\n",
    "    nx_graph = nx.DiGraph(graph.edges).reverse()\n",
    "    nx.draw_networkx(nx_graph, ax=ax)\n",
    "    if save_path is not None:\n",
    "        ax.figure.savefig(save_path)\n",
    "\n",
    "    return ax"
   ]
  },
  {
   "cell_type": "code",
   "execution_count": 7,
   "metadata": {},
   "outputs": [
    {
     "name": "stderr",
     "output_type": "stream",
     "text": [
      "[2021-11-24 14:53:42,780 | INFO]\tLoading data catalog...\n",
      "[2021-11-24 14:53:43,193 | INFO]\tData catalog loaded. ✅\n"
     ]
    }
   ],
   "source": [
    "from src.training.data import build_dataset  # the graph used for testing\n",
    "graph = build_dataset()"
   ]
  },
  {
   "cell_type": "code",
   "execution_count": 8,
   "metadata": {},
   "outputs": [
    {
     "name": "stderr",
     "output_type": "stream",
     "text": [
      "/usr/local/anaconda/lib/python3.7/site-packages/networkx/drawing/nx_pylab.py:579: MatplotlibDeprecationWarning: \n",
      "The iterable function was deprecated in Matplotlib 3.1 and will be removed in 3.3. Use np.iterable instead.\n",
      "  if not cb.iterable(width):\n",
      "/usr/local/anaconda/lib/python3.7/site-packages/networkx/drawing/nx_pylab.py:676: MatplotlibDeprecationWarning: \n",
      "The iterable function was deprecated in Matplotlib 3.1 and will be removed in 3.3. Use np.iterable instead.\n",
      "  if cb.iterable(node_size):  # many node sizes\n",
      "[2021-11-24 14:53:43,283 | DEBUG]\tfindfont: Matching :family=sans-serif:style=normal:variant=normal:weight=normal:stretch=normal:size=12.0.\n",
      "[2021-11-24 14:53:43,285 | DEBUG]\tfindfont: score(<Font 'cmr10' (cmr10.ttf) normal normal 400 normal>) = 10.05\n",
      "[2021-11-24 14:53:43,286 | DEBUG]\tfindfont: score(<Font 'STIXSizeFourSym' (STIXSizFourSymBol.ttf) normal normal bold normal>) = 10.335\n",
      "[2021-11-24 14:53:43,286 | DEBUG]\tfindfont: score(<Font 'STIXSizeFourSym' (STIXSizFourSymReg.ttf) normal normal regular normal>) = 10.05\n",
      "[2021-11-24 14:53:43,287 | DEBUG]\tfindfont: score(<Font 'cmtt10' (cmtt10.ttf) normal normal 400 normal>) = 10.05\n",
      "[2021-11-24 14:53:43,288 | DEBUG]\tfindfont: score(<Font 'DejaVu Serif' (DejaVuSerif.ttf) normal normal 400 normal>) = 10.05\n",
      "[2021-11-24 14:53:43,289 | DEBUG]\tfindfont: score(<Font 'DejaVu Serif' (DejaVuSerif-Bold.ttf) normal normal bold normal>) = 10.335\n",
      "[2021-11-24 14:53:43,290 | DEBUG]\tfindfont: score(<Font 'STIXGeneral' (STIXGeneral.ttf) normal normal regular normal>) = 10.05\n",
      "[2021-11-24 14:53:43,291 | DEBUG]\tfindfont: score(<Font 'DejaVu Sans Mono' (DejaVuSansMono-Bold.ttf) normal normal bold normal>) = 10.335\n",
      "[2021-11-24 14:53:43,292 | DEBUG]\tfindfont: score(<Font 'STIXNonUnicode' (STIXNonUniIta.ttf) italic normal 400 normal>) = 11.05\n",
      "[2021-11-24 14:53:43,293 | DEBUG]\tfindfont: score(<Font 'cmex10' (cmex10.ttf) normal normal 400 normal>) = 10.05\n",
      "[2021-11-24 14:53:43,294 | DEBUG]\tfindfont: score(<Font 'DejaVu Sans' (DejaVuSans-BoldOblique.ttf) oblique normal bold normal>) = 1.335\n",
      "[2021-11-24 14:53:43,295 | DEBUG]\tfindfont: score(<Font 'DejaVu Serif' (DejaVuSerif-BoldItalic.ttf) italic normal bold normal>) = 11.335\n",
      "[2021-11-24 14:53:43,296 | DEBUG]\tfindfont: score(<Font 'STIXSizeThreeSym' (STIXSizThreeSymBol.ttf) normal normal bold normal>) = 10.335\n",
      "[2021-11-24 14:53:43,297 | DEBUG]\tfindfont: score(<Font 'DejaVu Sans' (DejaVuSans.ttf) normal normal 400 normal>) = 0.05\n",
      "[2021-11-24 14:53:43,298 | DEBUG]\tfindfont: score(<Font 'STIXSizeTwoSym' (STIXSizTwoSymReg.ttf) normal normal regular normal>) = 10.05\n",
      "[2021-11-24 14:53:43,298 | DEBUG]\tfindfont: score(<Font 'DejaVu Serif' (DejaVuSerif-Italic.ttf) italic normal 400 normal>) = 11.05\n",
      "[2021-11-24 14:53:43,299 | DEBUG]\tfindfont: score(<Font 'STIXNonUnicode' (STIXNonUniBolIta.ttf) italic normal bold normal>) = 11.335\n",
      "[2021-11-24 14:53:43,300 | DEBUG]\tfindfont: score(<Font 'DejaVu Sans Display' (DejaVuSansDisplay.ttf) normal normal 400 normal>) = 10.05\n",
      "[2021-11-24 14:53:43,301 | DEBUG]\tfindfont: score(<Font 'STIXNonUnicode' (STIXNonUni.ttf) normal normal regular normal>) = 10.05\n",
      "[2021-11-24 14:53:43,302 | DEBUG]\tfindfont: score(<Font 'STIXGeneral' (STIXGeneralBol.ttf) normal normal bold normal>) = 10.335\n",
      "[2021-11-24 14:53:43,302 | DEBUG]\tfindfont: score(<Font 'STIXSizeOneSym' (STIXSizOneSymReg.ttf) normal normal regular normal>) = 10.05\n",
      "[2021-11-24 14:53:43,303 | DEBUG]\tfindfont: score(<Font 'STIXSizeFiveSym' (STIXSizFiveSymReg.ttf) normal normal regular normal>) = 10.05\n",
      "[2021-11-24 14:53:43,304 | DEBUG]\tfindfont: score(<Font 'cmss10' (cmss10.ttf) normal normal 400 normal>) = 10.05\n",
      "[2021-11-24 14:53:43,305 | DEBUG]\tfindfont: score(<Font 'STIXSizeOneSym' (STIXSizOneSymBol.ttf) normal normal bold normal>) = 10.335\n",
      "[2021-11-24 14:53:43,305 | DEBUG]\tfindfont: score(<Font 'cmb10' (cmb10.ttf) normal normal 400 normal>) = 10.05\n",
      "[2021-11-24 14:53:43,306 | DEBUG]\tfindfont: score(<Font 'DejaVu Serif Display' (DejaVuSerifDisplay.ttf) normal normal 400 normal>) = 10.05\n",
      "[2021-11-24 14:53:43,307 | DEBUG]\tfindfont: score(<Font 'cmsy10' (cmsy10.ttf) normal normal 400 normal>) = 10.05\n",
      "[2021-11-24 14:53:43,307 | DEBUG]\tfindfont: score(<Font 'STIXNonUnicode' (STIXNonUniBol.ttf) normal normal bold normal>) = 10.335\n",
      "[2021-11-24 14:53:43,308 | DEBUG]\tfindfont: score(<Font 'STIXSizeTwoSym' (STIXSizTwoSymBol.ttf) normal normal bold normal>) = 10.335\n",
      "[2021-11-24 14:53:43,309 | DEBUG]\tfindfont: score(<Font 'DejaVu Sans Mono' (DejaVuSansMono.ttf) normal normal 400 normal>) = 10.05\n",
      "[2021-11-24 14:53:43,310 | DEBUG]\tfindfont: score(<Font 'STIXGeneral' (STIXGeneralItalic.ttf) italic normal 400 normal>) = 11.05\n",
      "[2021-11-24 14:53:43,310 | DEBUG]\tfindfont: score(<Font 'DejaVu Sans' (DejaVuSans-Oblique.ttf) oblique normal 400 normal>) = 1.05\n",
      "[2021-11-24 14:53:43,311 | DEBUG]\tfindfont: score(<Font 'cmmi10' (cmmi10.ttf) normal normal 400 normal>) = 10.05\n",
      "[2021-11-24 14:53:43,312 | DEBUG]\tfindfont: score(<Font 'STIXSizeThreeSym' (STIXSizThreeSymReg.ttf) normal normal regular normal>) = 10.05\n",
      "[2021-11-24 14:53:43,312 | DEBUG]\tfindfont: score(<Font 'DejaVu Sans Mono' (DejaVuSansMono-Oblique.ttf) oblique normal 400 normal>) = 11.05\n",
      "[2021-11-24 14:53:43,313 | DEBUG]\tfindfont: score(<Font 'STIXGeneral' (STIXGeneralBolIta.ttf) italic normal bold normal>) = 11.335\n",
      "[2021-11-24 14:53:43,314 | DEBUG]\tfindfont: score(<Font 'DejaVu Sans' (DejaVuSans-Bold.ttf) normal normal bold normal>) = 0.33499999999999996\n",
      "[2021-11-24 14:53:43,314 | DEBUG]\tfindfont: score(<Font 'DejaVu Sans Mono' (DejaVuSansMono-BoldOblique.ttf) oblique normal bold normal>) = 11.335\n",
      "[2021-11-24 14:53:43,315 | DEBUG]\tfindfont: Matching :family=sans-serif:style=normal:variant=normal:weight=normal:stretch=normal:size=12.0 to DejaVu Sans ('/usr/local/anaconda/lib/python3.7/site-packages/matplotlib/mpl-data/fonts/ttf/DejaVuSans.ttf') with score of 0.050000.\n"
     ]
    },
    {
     "data": {
      "image/png": "[encoded data removed]",
      "text/plain": [
       "<Figure size 432x288 with 1 Axes>"
      ]
     },
     "metadata": {},
     "output_type": "display_data"
    }
   ],
   "source": [
    "draw_graph(graph);"
   ]
  },
  {
   "cell_type": "code",
   "execution_count": 9,
   "metadata": {},
   "outputs": [],
   "source": [
    "from src.libs.dag.utils import map_adjacency"
   ]
  },
  {
   "cell_type": "code",
   "execution_count": 10,
   "metadata": {},
   "outputs": [],
   "source": [
    "def draw_graph(graph, *, ax=None, save_path=None):\n",
    "    if ax is None:\n",
    "        ax = plt.axes()\n",
    "\n",
    "    # We use our utils function here: using the __name__\n",
    "    # special attributes that is attached to every Python\n",
    "    # functions or classes.\n",
    "    adjacency = map_adjacency(lambda f: f.__name__, graph.edges)\n",
    "    nx_graph = nx.DiGraph(adjacency).reverse()\n",
    "    nx.draw_networkx(nx_graph, ax=ax)\n",
    "    if save_path is not None:\n",
    "        ax.figure.savefig(save_path)\n",
    "    return ax"
   ]
  },
  {
   "cell_type": "code",
   "execution_count": 11,
   "metadata": {},
   "outputs": [
    {
     "data": {
      "image/png": "[encoded data removed]",
      "text/plain": [
       "<Figure size 432x288 with 1 Axes>"
      ]
     },
     "metadata": {},
     "output_type": "display_data"
    }
   ],
   "source": [
    "draw_graph(graph);"
   ]
  },
  {
   "cell_type": "code",
   "execution_count": 12,
   "metadata": {},
   "outputs": [],
   "source": [
    "from pyvis.network import Network"
   ]
  },
  {
   "cell_type": "code",
   "execution_count": 13,
   "metadata": {},
   "outputs": [],
   "source": [
    "def draw_graph(graph, *, path=None, backend='pyvis', ax=None):\n",
    "    \"\"\"\n",
    "    Draw a graph using prefered backend.\n",
    "\n",
    "    Args:\n",
    "    -----\n",
    "        graph: a `dag.graph.Graph` object\n",
    "        path (Path|str): where to save the file (required for pyvis backend)\n",
    "        backend: 'pyvis' or 'matplotlib'\n",
    "        ax (matplotlib.pyplot.axes): optional for matplotlib\n",
    "    \"\"\"\n",
    "    adjacency = map_adjacency(lambda f: f.__name__, graph.edges)\n",
    "    nx_graph = nx.DiGraph(adjacency).reverse()\n",
    "    \n",
    "    if backend == 'matplotlib':\n",
    "        if ax is None:\n",
    "            ax = plt.axes()\n",
    "        nx.draw_networkx(nx_graph, ax=ax)\n",
    "        if path is not None:\n",
    "            ax.figure.savefig(path)\n",
    "\n",
    "        return ax\n",
    "\n",
    "    elif backend == 'pyvis':\n",
    "        assert path is not None, (\n",
    "            \"'path' is required if you're using pyvis backend.\"\n",
    "        )\n",
    "        net = Network(directed=True, notebook=True)\n",
    "        net.from_nx(nx_graph)\n",
    "\n",
    "        return net.show(str(path))\n",
    "\n",
    "    else:\n",
    "        raise NotImplementedError(\"Unknown backend.\")"
   ]
  },
  {
   "cell_type": "code",
   "execution_count": 14,
   "metadata": {},
   "outputs": [
    {
     "data": {
      "text/html": [
       "\n",
       "        <iframe\n",
       "            width=\"500px\"\n",
       "            height=\"500px\"\n",
       "            src=\"graph.html\"\n",
       "            frameborder=\"0\"\n",
       "            allowfullscreen\n",
       "        ></iframe>\n",
       "        "
      ],
      "text/plain": [
       "<IPython.lib.display.IFrame at 0x7f6230dc8350>"
      ]
     },
     "execution_count": 14,
     "metadata": {},
     "output_type": "execute_result"
    }
   ],
   "source": [
    "draw_graph(graph, path='graph.html')"
   ]
  },
  {
   "cell_type": "code",
   "execution_count": 15,
   "metadata": {},
   "outputs": [],
   "source": [
    "def execute_graph(graph):\n",
    "    for node in graph.topo_sorted():\n",
    "        print(node)  # useless, but enough for now."
   ]
  },
  {
   "cell_type": "code",
   "execution_count": 16,
   "metadata": {},
   "outputs": [
    {
     "name": "stdout",
     "output_type": "stream",
     "text": [
      "<function load_transactions at 0x7f6231541cb0>\n",
      "<function _compute_daily_transactions at 0x7f6233d695f0>\n",
      "<function _compute_weekly_transactions at 0x7f62314ff680>\n"
     ]
    }
   ],
   "source": [
    "execute_graph(graph)"
   ]
  },
  {
   "cell_type": "code",
   "execution_count": 17,
   "metadata": {},
   "outputs": [],
   "source": [
    "def execute_graph(graph):\n",
    "    for node in graph.topo_sorted():\n",
    "        print(graph.get_node_dependencies(node))  # useless, but enough for now."
   ]
  },
  {
   "cell_type": "code",
   "execution_count": 18,
   "metadata": {},
   "outputs": [
    {
     "name": "stdout",
     "output_type": "stream",
     "text": [
      "[]\n",
      "[<function load_transactions at 0x7f6231541cb0>]\n",
      "[<function _compute_daily_transactions at 0x7f6233d695f0>]\n"
     ]
    }
   ],
   "source": [
    "execute_graph(graph)"
   ]
  },
  {
   "cell_type": "code",
   "execution_count": 19,
   "metadata": {},
   "outputs": [],
   "source": [
    "l = [1,2,3]\n",
    "def f(x):\n",
    "    result = []\n",
    "    for elt in x:\n",
    "        result.append(elt+1)\n",
    "    return result"
   ]
  },
  {
   "cell_type": "code",
   "execution_count": 20,
   "metadata": {},
   "outputs": [
    {
     "data": {
      "text/plain": [
       "[2, 3, 4]"
      ]
     },
     "execution_count": 20,
     "metadata": {},
     "output_type": "execute_result"
    }
   ],
   "source": [
    "f(l)"
   ]
  },
  {
   "cell_type": "code",
   "execution_count": 27,
   "metadata": {},
   "outputs": [],
   "source": [
    "b = True\n",
    "def f():\n",
    "    if b :\n",
    "        return{\n",
    "        'products': 2,\n",
    "        'transactions': 3\n",
    "        }\n",
    "    else:\n",
    "        print('toto')"
   ]
  },
  {
   "cell_type": "code",
   "execution_count": 28,
   "metadata": {},
   "outputs": [
    {
     "data": {
      "text/plain": [
       "{'products': 2, 'transactions': 3}"
      ]
     },
     "execution_count": 28,
     "metadata": {},
     "output_type": "execute_result"
    }
   ],
   "source": [
    "f()"
   ]
  },
  {
   "cell_type": "code",
   "execution_count": null,
   "metadata": {},
   "outputs": [],
   "source": []
  },
  {
   "cell_type": "code",
   "execution_count": null,
   "metadata": {},
   "outputs": [],
   "source": []
  },
  {
   "cell_type": "code",
   "execution_count": null,
   "metadata": {},
   "outputs": [],
   "source": []
  },
  {
   "cell_type": "code",
   "execution_count": null,
   "metadata": {},
   "outputs": [],
   "source": []
  },
  {
   "cell_type": "code",
   "execution_count": 54,
   "metadata": {},
   "outputs": [
    {
     "data": {
      "text/plain": [
       "732.375"
      ]
     },
     "execution_count": 54,
     "metadata": {},
     "output_type": "execute_result"
    }
   ],
   "source": [
    "def f(x):\n",
    "    return pow(x,2)\n",
    "\n",
    "def g(x):\n",
    "    return x/2\n",
    "\n",
    "def h(z):\n",
    "    return pow(z[0], 3) + pow(z[1], 3)\n",
    "\n",
    "def identite(x, y):\n",
    "    return (x, y)\n",
    "\n",
    "\n",
    "x = 3\n",
    "x_f = f(x)\n",
    "x_g = g(x)\n",
    "\n",
    "identity_func = identite(f(x), g(x))\n",
    "# composition de la fonction identite avec la fonction h\n",
    "x_f_g = h(identity_func)\n",
    "x_f_g"
   ]
  },
  {
   "cell_type": "code",
   "execution_count": 30,
   "metadata": {},
   "outputs": [],
   "source": [
    "def g(x):\n",
    "    return x/2"
   ]
  },
  {
   "cell_type": "code",
   "execution_count": 46,
   "metadata": {},
   "outputs": [],
   "source": [
    "def h(z):\n",
    "    return pow(z[0], 3) + pow(z[1], 3)\n",
    "    "
   ]
  },
  {
   "cell_type": "code",
   "execution_count": null,
   "metadata": {},
   "outputs": [],
   "source": [
    "def identite(x, y):\n",
    "    return (x, y)\n"
   ]
  },
  {
   "cell_type": "code",
   "execution_count": 53,
   "metadata": {},
   "outputs": [
    {
     "data": {
      "text/plain": [
       "732.375"
      ]
     },
     "execution_count": 53,
     "metadata": {},
     "output_type": "execute_result"
    }
   ],
   "source": [
    "x = 3\n",
    "x_f = f(x)\n",
    "x_g = g(x)\n",
    "\n",
    "identity_func = identite(f(x), g(x))\n",
    "# composition de la fonction identite avec la fonction h\n",
    "x_f_g = h(identity_func)\n",
    "x_f_g"
   ]
  },
  {
   "cell_type": "code",
   "execution_count": null,
   "metadata": {},
   "outputs": [],
   "source": [
    "def identite(x, y):\n",
    "    return x, y\n"
   ]
  },
  {
   "cell_type": "code",
   "execution_count": 48,
   "metadata": {},
   "outputs": [
    {
     "data": {
      "text/plain": [
       "(9, 1.5)"
      ]
     },
     "execution_count": 48,
     "metadata": {},
     "output_type": "execute_result"
    }
   ],
   "source": [
    "identite(f(x), g(x))"
   ]
  },
  {
   "cell_type": "code",
   "execution_count": null,
   "metadata": {},
   "outputs": [],
   "source": []
  }
 ],
 "metadata": {
  "kernelspec": {
   "display_name": "Python 3",
   "language": "python",
   "name": "python3"
  },
  "language_info": {
   "codemirror_mode": {
    "name": "ipython",
    "version": 3
   },
   "file_extension": ".py",
   "mimetype": "text/x-python",
   "name": "python",
   "nbconvert_exporter": "python",
   "pygments_lexer": "ipython3",
   "version": "3.7.4"
  }
 },
 "nbformat": 4,
 "nbformat_minor": 2
}
